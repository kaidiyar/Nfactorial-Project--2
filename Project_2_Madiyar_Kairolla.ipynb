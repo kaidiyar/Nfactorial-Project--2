{
 "cells": [
  {
   "cell_type": "code",
   "execution_count": 1,
   "metadata": {},
   "outputs": [],
   "source": [
    "import pandas as pd\n",
    "import numpy as np\n",
    "import seaborn as sns\n",
    "import matplotlib.pyplot as plt"
   ]
  },
  {
   "cell_type": "code",
   "execution_count": 2,
   "metadata": {},
   "outputs": [],
   "source": [
    "from pandasql import sqldf\n",
    "\n",
    "def execute_sql(query):\n",
    "    return sqldf(query, globals())"
   ]
  },
  {
   "cell_type": "markdown",
   "metadata": {},
   "source": [
    "# Описание полей"
   ]
  },
  {
   "cell_type": "markdown",
   "metadata": {},
   "source": [
    "- `timestamp` -- дата и время поста \n",
    "<br>\n",
    "- `company` -- название компании\n",
    "<br>\n",
    "- `level` -- уровень специалиста (jun - mid - senior etc)\n",
    "<br>\n",
    "- `title` -- название вакансии \n",
    "<br>\n",
    "- `totalyearlycompensation` -- годовая заработная плана. в контексте всех последующих задач, именно это поле будет иметься в виду под названием \"зарплата\"\n",
    "<br>\n",
    "- `location` -- город и штат\\страна, где работает специалист\n",
    "<br>\n",
    "- `yearsofexperience` -- уровень специалиста\n",
    "<br>\n",
    "- `yearsatcompany` -- опыт работы специалиста \n",
    "<br>\n",
    "- `basesalary` -- базовая компенсация\n",
    "<br>\n",
    "\n"
   ]
  },
  {
   "cell_type": "code",
   "execution_count": 3,
   "metadata": {},
   "outputs": [],
   "source": [
    "salaries = pd.read_excel('P01_Salaries_Dataset.xlsx', index_col = 0)"
   ]
  },
  {
   "cell_type": "markdown",
   "metadata": {},
   "source": [
    "# Обработка данных"
   ]
  },
  {
   "cell_type": "code",
   "execution_count": 4,
   "metadata": {},
   "outputs": [
    {
     "name": "stdout",
     "output_type": "stream",
     "text": [
      "<class 'pandas.core.frame.DataFrame'>\n",
      "Int64Index: 70000 entries, 0 to 69999\n",
      "Data columns (total 15 columns):\n",
      " #   Column                   Non-Null Count  Dtype         \n",
      "---  ------                   --------------  -----         \n",
      " 0   timestamp                70000 non-null  datetime64[ns]\n",
      " 1   company                  69995 non-null  object        \n",
      " 2   level                    69597 non-null  object        \n",
      " 3   title                    70000 non-null  object        \n",
      " 4   totalyearlycompensation  70000 non-null  int64         \n",
      " 5   location                 70000 non-null  object        \n",
      " 6   yearsofexperience        70000 non-null  float64       \n",
      " 7   yearsatcompany           70000 non-null  float64       \n",
      " 8   tag                      69043 non-null  object        \n",
      " 9   basesalary               70000 non-null  int64         \n",
      " 10  stockgrantvalue          70000 non-null  float64       \n",
      " 11  bonus                    70000 non-null  float64       \n",
      " 12  gender                   48142 non-null  object        \n",
      " 13  Race                     25018 non-null  object        \n",
      " 14  Education                33909 non-null  object        \n",
      "dtypes: datetime64[ns](1), float64(4), int64(2), object(8)\n",
      "memory usage: 8.5+ MB\n"
     ]
    }
   ],
   "source": [
    "salaries.info() # to get the info from the dataset "
   ]
  },
  {
   "cell_type": "code",
   "execution_count": 5,
   "metadata": {},
   "outputs": [
    {
     "data": {
      "text/plain": [
       "timestamp                      0\n",
       "company                        5\n",
       "level                        403\n",
       "title                          0\n",
       "totalyearlycompensation        0\n",
       "location                       0\n",
       "yearsofexperience              0\n",
       "yearsatcompany                 0\n",
       "tag                          957\n",
       "basesalary                     0\n",
       "stockgrantvalue                0\n",
       "bonus                          0\n",
       "gender                     21858\n",
       "Race                       44982\n",
       "Education                  36091\n",
       "dtype: int64"
      ]
     },
     "execution_count": 5,
     "metadata": {},
     "output_type": "execute_result"
    }
   ],
   "source": [
    "salaries.isna().sum() # to get the number of nulls in the particular column"
   ]
  },
  {
   "cell_type": "code",
   "execution_count": 6,
   "metadata": {},
   "outputs": [],
   "source": [
    "salaries['company'] = salaries['company'].str.capitalize() # all these operations is necessary to normalise data in the company_name"
   ]
  },
  {
   "cell_type": "code",
   "execution_count": 7,
   "metadata": {},
   "outputs": [
    {
     "name": "stderr",
     "output_type": "stream",
     "text": [
      "/var/folders/xd/xxtmzxj51qgbwxcvrdbzcw900000gn/T/ipykernel_4005/467893471.py:1: FutureWarning: The default value of regex will change from True to False in a future version.\n",
      "  salaries['company'] = salaries['company'].str.replace('.com', '', case=False)\n"
     ]
    }
   ],
   "source": [
    "salaries['company'] = salaries['company'].str.replace('.com', '', case=False)"
   ]
  },
  {
   "cell_type": "code",
   "execution_count": 8,
   "metadata": {},
   "outputs": [
    {
     "name": "stderr",
     "output_type": "stream",
     "text": [
      "/var/folders/xd/xxtmzxj51qgbwxcvrdbzcw900000gn/T/ipykernel_4005/1312018357.py:1: FutureWarning: The default value of regex will change from True to False in a future version.\n",
      "  salaries['company'] = salaries['company'].str.replace('.ai', '')\n"
     ]
    }
   ],
   "source": [
    "salaries['company'] = salaries['company'].str.replace('.ai', '')"
   ]
  },
  {
   "cell_type": "code",
   "execution_count": 9,
   "metadata": {},
   "outputs": [
    {
     "data": {
      "text/html": [
       "<div>\n",
       "<style scoped>\n",
       "    .dataframe tbody tr th:only-of-type {\n",
       "        vertical-align: middle;\n",
       "    }\n",
       "\n",
       "    .dataframe tbody tr th {\n",
       "        vertical-align: top;\n",
       "    }\n",
       "\n",
       "    .dataframe thead th {\n",
       "        text-align: right;\n",
       "    }\n",
       "</style>\n",
       "<table border=\"1\" class=\"dataframe\">\n",
       "  <thead>\n",
       "    <tr style=\"text-align: right;\">\n",
       "      <th></th>\n",
       "      <th>timestamp</th>\n",
       "      <th>company</th>\n",
       "      <th>level</th>\n",
       "      <th>title</th>\n",
       "      <th>totalyearlycompensation</th>\n",
       "      <th>location</th>\n",
       "      <th>yearsofexperience</th>\n",
       "      <th>yearsatcompany</th>\n",
       "      <th>tag</th>\n",
       "      <th>basesalary</th>\n",
       "      <th>stockgrantvalue</th>\n",
       "      <th>bonus</th>\n",
       "      <th>gender</th>\n",
       "      <th>Race</th>\n",
       "      <th>Education</th>\n",
       "    </tr>\n",
       "  </thead>\n",
       "  <tbody>\n",
       "    <tr>\n",
       "      <th>0</th>\n",
       "      <td>2017-06-07 11:33:27</td>\n",
       "      <td>Oracle</td>\n",
       "      <td>L3</td>\n",
       "      <td>Product Manager</td>\n",
       "      <td>127000</td>\n",
       "      <td>Redwood City, CA</td>\n",
       "      <td>1.5</td>\n",
       "      <td>1.5</td>\n",
       "      <td>NaN</td>\n",
       "      <td>107000</td>\n",
       "      <td>20000.0</td>\n",
       "      <td>10000.0</td>\n",
       "      <td>NaN</td>\n",
       "      <td>NaN</td>\n",
       "      <td>NaN</td>\n",
       "    </tr>\n",
       "    <tr>\n",
       "      <th>1</th>\n",
       "      <td>2017-06-10 17:11:29</td>\n",
       "      <td>Ebay</td>\n",
       "      <td>SE 2</td>\n",
       "      <td>Software Engineer</td>\n",
       "      <td>100000</td>\n",
       "      <td>San Francisco, CA</td>\n",
       "      <td>5.0</td>\n",
       "      <td>3.0</td>\n",
       "      <td>NaN</td>\n",
       "      <td>0</td>\n",
       "      <td>0.0</td>\n",
       "      <td>0.0</td>\n",
       "      <td>NaN</td>\n",
       "      <td>NaN</td>\n",
       "      <td>NaN</td>\n",
       "    </tr>\n",
       "    <tr>\n",
       "      <th>2</th>\n",
       "      <td>2017-06-11 14:53:57</td>\n",
       "      <td>Amazon</td>\n",
       "      <td>L7</td>\n",
       "      <td>Product Manager</td>\n",
       "      <td>310000</td>\n",
       "      <td>Seattle, WA</td>\n",
       "      <td>8.0</td>\n",
       "      <td>0.0</td>\n",
       "      <td>NaN</td>\n",
       "      <td>155000</td>\n",
       "      <td>0.0</td>\n",
       "      <td>0.0</td>\n",
       "      <td>NaN</td>\n",
       "      <td>NaN</td>\n",
       "      <td>NaN</td>\n",
       "    </tr>\n",
       "    <tr>\n",
       "      <th>3</th>\n",
       "      <td>2017-06-17 00:23:14</td>\n",
       "      <td>Apple</td>\n",
       "      <td>M1</td>\n",
       "      <td>Software Engineering Manager</td>\n",
       "      <td>372000</td>\n",
       "      <td>Sunnyvale, CA</td>\n",
       "      <td>7.0</td>\n",
       "      <td>5.0</td>\n",
       "      <td>NaN</td>\n",
       "      <td>157000</td>\n",
       "      <td>180000.0</td>\n",
       "      <td>35000.0</td>\n",
       "      <td>NaN</td>\n",
       "      <td>NaN</td>\n",
       "      <td>NaN</td>\n",
       "    </tr>\n",
       "    <tr>\n",
       "      <th>4</th>\n",
       "      <td>2017-06-20 10:58:51</td>\n",
       "      <td>Microsoft</td>\n",
       "      <td>60</td>\n",
       "      <td>Software Engineer</td>\n",
       "      <td>157000</td>\n",
       "      <td>Mountain View, CA</td>\n",
       "      <td>5.0</td>\n",
       "      <td>3.0</td>\n",
       "      <td>NaN</td>\n",
       "      <td>0</td>\n",
       "      <td>0.0</td>\n",
       "      <td>0.0</td>\n",
       "      <td>NaN</td>\n",
       "      <td>NaN</td>\n",
       "      <td>NaN</td>\n",
       "    </tr>\n",
       "    <tr>\n",
       "      <th>...</th>\n",
       "      <td>...</td>\n",
       "      <td>...</td>\n",
       "      <td>...</td>\n",
       "      <td>...</td>\n",
       "      <td>...</td>\n",
       "      <td>...</td>\n",
       "      <td>...</td>\n",
       "      <td>...</td>\n",
       "      <td>...</td>\n",
       "      <td>...</td>\n",
       "      <td>...</td>\n",
       "      <td>...</td>\n",
       "      <td>...</td>\n",
       "      <td>...</td>\n",
       "      <td>...</td>\n",
       "    </tr>\n",
       "    <tr>\n",
       "      <th>69995</th>\n",
       "      <td>2020-06-16 15:16:13</td>\n",
       "      <td>Walmart labs</td>\n",
       "      <td>E4</td>\n",
       "      <td>Product Manager</td>\n",
       "      <td>192000</td>\n",
       "      <td>San Bruno, CA</td>\n",
       "      <td>5.0</td>\n",
       "      <td>2.0</td>\n",
       "      <td>Web Development (Front-End)</td>\n",
       "      <td>145000</td>\n",
       "      <td>20000.0</td>\n",
       "      <td>27000.0</td>\n",
       "      <td>NaN</td>\n",
       "      <td>NaN</td>\n",
       "      <td>NaN</td>\n",
       "    </tr>\n",
       "    <tr>\n",
       "      <th>69996</th>\n",
       "      <td>2021-02-24 20:56:27</td>\n",
       "      <td>Google</td>\n",
       "      <td>L8</td>\n",
       "      <td>Software Engineering Manager</td>\n",
       "      <td>1100000</td>\n",
       "      <td>Washington, DC</td>\n",
       "      <td>25.0</td>\n",
       "      <td>7.0</td>\n",
       "      <td>Networking</td>\n",
       "      <td>280000</td>\n",
       "      <td>710000.0</td>\n",
       "      <td>110000.0</td>\n",
       "      <td>Male</td>\n",
       "      <td>NaN</td>\n",
       "      <td>Master's Degree</td>\n",
       "    </tr>\n",
       "    <tr>\n",
       "      <th>69997</th>\n",
       "      <td>2021-01-04 20:52:36</td>\n",
       "      <td>Facebook</td>\n",
       "      <td>L5 Product Manager</td>\n",
       "      <td>Product Manager</td>\n",
       "      <td>350000</td>\n",
       "      <td>Menlo Park, CA</td>\n",
       "      <td>7.0</td>\n",
       "      <td>2.0</td>\n",
       "      <td>Product</td>\n",
       "      <td>190000</td>\n",
       "      <td>130000.0</td>\n",
       "      <td>30000.0</td>\n",
       "      <td>NaN</td>\n",
       "      <td>NaN</td>\n",
       "      <td>NaN</td>\n",
       "    </tr>\n",
       "    <tr>\n",
       "      <th>69998</th>\n",
       "      <td>2020-12-01 17:03:09</td>\n",
       "      <td>Amazon</td>\n",
       "      <td>L6</td>\n",
       "      <td>Software Engineer</td>\n",
       "      <td>320000</td>\n",
       "      <td>Seattle, WA</td>\n",
       "      <td>8.0</td>\n",
       "      <td>7.0</td>\n",
       "      <td>Distributed Systems (Back-End)</td>\n",
       "      <td>160000</td>\n",
       "      <td>160000.0</td>\n",
       "      <td>0.0</td>\n",
       "      <td>Female</td>\n",
       "      <td>Asian</td>\n",
       "      <td>Bachelor's Degree</td>\n",
       "    </tr>\n",
       "    <tr>\n",
       "      <th>69999</th>\n",
       "      <td>2021-07-16 07:43:01</td>\n",
       "      <td>Deloitte</td>\n",
       "      <td>Analyst</td>\n",
       "      <td>Business Analyst</td>\n",
       "      <td>86000</td>\n",
       "      <td>New York, NY</td>\n",
       "      <td>1.0</td>\n",
       "      <td>0.0</td>\n",
       "      <td>Technology</td>\n",
       "      <td>80000</td>\n",
       "      <td>0.0</td>\n",
       "      <td>6000.0</td>\n",
       "      <td>NaN</td>\n",
       "      <td>NaN</td>\n",
       "      <td>NaN</td>\n",
       "    </tr>\n",
       "  </tbody>\n",
       "</table>\n",
       "<p>70000 rows × 15 columns</p>\n",
       "</div>"
      ],
      "text/plain": [
       "                timestamp       company               level  \\\n",
       "0     2017-06-07 11:33:27        Oracle                  L3   \n",
       "1     2017-06-10 17:11:29          Ebay                SE 2   \n",
       "2     2017-06-11 14:53:57        Amazon                  L7   \n",
       "3     2017-06-17 00:23:14         Apple                  M1   \n",
       "4     2017-06-20 10:58:51     Microsoft                  60   \n",
       "...                   ...           ...                 ...   \n",
       "69995 2020-06-16 15:16:13  Walmart labs                  E4   \n",
       "69996 2021-02-24 20:56:27        Google                  L8   \n",
       "69997 2021-01-04 20:52:36      Facebook  L5 Product Manager   \n",
       "69998 2020-12-01 17:03:09        Amazon                  L6   \n",
       "69999 2021-07-16 07:43:01      Deloitte             Analyst   \n",
       "\n",
       "                              title  totalyearlycompensation  \\\n",
       "0                   Product Manager                   127000   \n",
       "1                 Software Engineer                   100000   \n",
       "2                   Product Manager                   310000   \n",
       "3      Software Engineering Manager                   372000   \n",
       "4                 Software Engineer                   157000   \n",
       "...                             ...                      ...   \n",
       "69995               Product Manager                   192000   \n",
       "69996  Software Engineering Manager                  1100000   \n",
       "69997               Product Manager                   350000   \n",
       "69998             Software Engineer                   320000   \n",
       "69999              Business Analyst                    86000   \n",
       "\n",
       "                location  yearsofexperience  yearsatcompany  \\\n",
       "0       Redwood City, CA                1.5             1.5   \n",
       "1      San Francisco, CA                5.0             3.0   \n",
       "2            Seattle, WA                8.0             0.0   \n",
       "3          Sunnyvale, CA                7.0             5.0   \n",
       "4      Mountain View, CA                5.0             3.0   \n",
       "...                  ...                ...             ...   \n",
       "69995      San Bruno, CA                5.0             2.0   \n",
       "69996     Washington, DC               25.0             7.0   \n",
       "69997     Menlo Park, CA                7.0             2.0   \n",
       "69998        Seattle, WA                8.0             7.0   \n",
       "69999       New York, NY                1.0             0.0   \n",
       "\n",
       "                                  tag  basesalary  stockgrantvalue     bonus  \\\n",
       "0                                 NaN      107000          20000.0   10000.0   \n",
       "1                                 NaN           0              0.0       0.0   \n",
       "2                                 NaN      155000              0.0       0.0   \n",
       "3                                 NaN      157000         180000.0   35000.0   \n",
       "4                                 NaN           0              0.0       0.0   \n",
       "...                               ...         ...              ...       ...   \n",
       "69995     Web Development (Front-End)      145000          20000.0   27000.0   \n",
       "69996                      Networking      280000         710000.0  110000.0   \n",
       "69997                         Product      190000         130000.0   30000.0   \n",
       "69998  Distributed Systems (Back-End)      160000         160000.0       0.0   \n",
       "69999                      Technology       80000              0.0    6000.0   \n",
       "\n",
       "       gender   Race          Education  \n",
       "0         NaN    NaN                NaN  \n",
       "1         NaN    NaN                NaN  \n",
       "2         NaN    NaN                NaN  \n",
       "3         NaN    NaN                NaN  \n",
       "4         NaN    NaN                NaN  \n",
       "...       ...    ...                ...  \n",
       "69995     NaN    NaN                NaN  \n",
       "69996    Male    NaN    Master's Degree  \n",
       "69997     NaN    NaN                NaN  \n",
       "69998  Female  Asian  Bachelor's Degree  \n",
       "69999     NaN    NaN                NaN  \n",
       "\n",
       "[70000 rows x 15 columns]"
      ]
     },
     "execution_count": 9,
     "metadata": {},
     "output_type": "execute_result"
    }
   ],
   "source": [
    "salaries"
   ]
  },
  {
   "cell_type": "code",
   "execution_count": null,
   "metadata": {},
   "outputs": [],
   "source": []
  },
  {
   "cell_type": "markdown",
   "metadata": {},
   "source": [
    "Вам необходимо будет проделать несколько задач по датасету, в удобном для вас формате -- либо используя **методы pandas**, либо **через SQL-код**"
   ]
  },
  {
   "cell_type": "markdown",
   "metadata": {},
   "source": [
    "# Задачи\n",
    "\n",
    "1. Сколько уникальных компаний находятся в топ 10 по сумме годовых заработной платы `totalyearlycompensation`?\n",
    "1. Какой средний опыт работы у `Software Engineers` в компании `Oracle` с заработной платой больше `50.000`?\n",
    "1. Каковы средние зарплаты по локациям `Austin, TX`, `London, EN, United Kingdom` и `Redmond, WA`\n",
    "1. Какова средняя зарплата в целом в штате Калифорния? `(CA)`\n",
    "\n",
    "1. Сравните заработные платы компаний \"FAANG\" против остальных компаний в разрезе позиции `Software Engineer`\n",
    "\n",
    "1. Сравните среднюю, медиану и моду по заработным платам у `Software Engineers` за периоды \n",
    "  `январь 2021 - апрель 2021`  vs `май 2021 - август 2021` (включительно)\n",
    "1. Визуализируйте данные с предыдущего задания линейным графиком, где должны быть соблюдены следующие условия:\n",
    "    - Период январь-апрель должен быть зеленого цвета\n",
    "    - Период май-август должен быть красного цвета\n",
    "    - на линейном графике должны присутствовать только средние значения (mean)\n",
    "\n",
    "1. Оцените влияние уровня образования (или его отсутствия) к заработной плате\n",
    "\n",
    "1. Оцените _зависимость_ между опытом работы `yearsofexperience` и заработной платой\n",
    "\n",
    "1. Сделайте сравнение уровня зарплат в зависимости от грэйда (level) в компании Amazon на позицию 'Software Engineer'. Постройте визуализацию и **напишите ваши выводы**. [Подробнее о грэйдах в Amazon](https://careerkarma.com/blog/software-engineering-salary-amazon/), [примеры исследования позиций и зарплат в Казахстане](https://zerttey.kolesa.group/datascience#zp)"
   ]
  },
  {
   "cell_type": "markdown",
   "metadata": {},
   "source": [
    "## Exercise 1"
   ]
  },
  {
   "cell_type": "code",
   "execution_count": 10,
   "metadata": {},
   "outputs": [
    {
     "data": {
      "text/html": [
       "<div>\n",
       "<style scoped>\n",
       "    .dataframe tbody tr th:only-of-type {\n",
       "        vertical-align: middle;\n",
       "    }\n",
       "\n",
       "    .dataframe tbody tr th {\n",
       "        vertical-align: top;\n",
       "    }\n",
       "\n",
       "    .dataframe thead th {\n",
       "        text-align: right;\n",
       "    }\n",
       "</style>\n",
       "<table border=\"1\" class=\"dataframe\">\n",
       "  <thead>\n",
       "    <tr style=\"text-align: right;\">\n",
       "      <th></th>\n",
       "      <th>unique_companies</th>\n",
       "    </tr>\n",
       "  </thead>\n",
       "  <tbody>\n",
       "    <tr>\n",
       "      <th>0</th>\n",
       "      <td>6</td>\n",
       "    </tr>\n",
       "  </tbody>\n",
       "</table>\n",
       "</div>"
      ],
      "text/plain": [
       "   unique_companies\n",
       "0                 6"
      ]
     },
     "execution_count": 10,
     "metadata": {},
     "output_type": "execute_result"
    }
   ],
   "source": [
    "sql_query = \"\"\"\n",
    "WITH t AS (\n",
    "SELECT company, totalyearlycompensation\n",
    "FROM salaries\n",
    "ORDER BY totalyearlycompensation DESC\n",
    "LIMIT 10\n",
    ")\n",
    "SELECT COUNT(DISTINCT company) AS unique_companies\n",
    "FROM t\n",
    "\"\"\"\n",
    "\n",
    "execute_sql(sql_query) "
   ]
  },
  {
   "cell_type": "markdown",
   "metadata": {},
   "source": [
    "## Exercise 2"
   ]
  },
  {
   "cell_type": "code",
   "execution_count": 11,
   "metadata": {},
   "outputs": [
    {
     "data": {
      "text/html": [
       "<div>\n",
       "<style scoped>\n",
       "    .dataframe tbody tr th:only-of-type {\n",
       "        vertical-align: middle;\n",
       "    }\n",
       "\n",
       "    .dataframe tbody tr th {\n",
       "        vertical-align: top;\n",
       "    }\n",
       "\n",
       "    .dataframe thead th {\n",
       "        text-align: right;\n",
       "    }\n",
       "</style>\n",
       "<table border=\"1\" class=\"dataframe\">\n",
       "  <thead>\n",
       "    <tr style=\"text-align: right;\">\n",
       "      <th></th>\n",
       "      <th>avg_yearsatcompany</th>\n",
       "    </tr>\n",
       "  </thead>\n",
       "  <tbody>\n",
       "    <tr>\n",
       "      <th>0</th>\n",
       "      <td>2.414921</td>\n",
       "    </tr>\n",
       "  </tbody>\n",
       "</table>\n",
       "</div>"
      ],
      "text/plain": [
       "   avg_yearsatcompany\n",
       "0            2.414921"
      ]
     },
     "execution_count": 11,
     "metadata": {},
     "output_type": "execute_result"
    }
   ],
   "source": [
    "sql_query = \"\"\"\n",
    "SELECT AVG(yearsatcompany) as avg_yearsatcompany\n",
    "FROM salaries\n",
    "WHERE title = 'Software Engineer' and company = 'Oracle' and basesalary > 50000\n",
    "\"\"\"\n",
    "\n",
    "execute_sql(sql_query) "
   ]
  },
  {
   "cell_type": "markdown",
   "metadata": {},
   "source": [
    "## Exercise 3"
   ]
  },
  {
   "cell_type": "code",
   "execution_count": 12,
   "metadata": {},
   "outputs": [
    {
     "data": {
      "text/html": [
       "<div>\n",
       "<style scoped>\n",
       "    .dataframe tbody tr th:only-of-type {\n",
       "        vertical-align: middle;\n",
       "    }\n",
       "\n",
       "    .dataframe tbody tr th {\n",
       "        vertical-align: top;\n",
       "    }\n",
       "\n",
       "    .dataframe thead th {\n",
       "        text-align: right;\n",
       "    }\n",
       "</style>\n",
       "<table border=\"1\" class=\"dataframe\">\n",
       "  <thead>\n",
       "    <tr style=\"text-align: right;\">\n",
       "      <th></th>\n",
       "      <th>location</th>\n",
       "      <th>avg_basesalary</th>\n",
       "    </tr>\n",
       "  </thead>\n",
       "  <tbody>\n",
       "    <tr>\n",
       "      <th>0</th>\n",
       "      <td>Austin, TX</td>\n",
       "      <td>130633.410673</td>\n",
       "    </tr>\n",
       "    <tr>\n",
       "      <th>1</th>\n",
       "      <td>London, EN, United Kingdom</td>\n",
       "      <td>111062.827225</td>\n",
       "    </tr>\n",
       "    <tr>\n",
       "      <th>2</th>\n",
       "      <td>Redmond, WA</td>\n",
       "      <td>146196.928281</td>\n",
       "    </tr>\n",
       "  </tbody>\n",
       "</table>\n",
       "</div>"
      ],
      "text/plain": [
       "                     location  avg_basesalary\n",
       "0                  Austin, TX   130633.410673\n",
       "1  London, EN, United Kingdom   111062.827225\n",
       "2                 Redmond, WA   146196.928281"
      ]
     },
     "execution_count": 12,
     "metadata": {},
     "output_type": "execute_result"
    }
   ],
   "source": [
    "sql_query = \"\"\"\n",
    "SELECT location, AVG(basesalary) AS avg_basesalary\n",
    "FROM salaries\n",
    "WHERE location IN ('Austin, TX', 'London, EN, United Kingdom', 'Redmond, WA')\n",
    "GROUP BY location\n",
    "\"\"\"\n",
    "\n",
    "execute_sql(sql_query)"
   ]
  },
  {
   "cell_type": "markdown",
   "metadata": {},
   "source": [
    "## Exercise 4"
   ]
  },
  {
   "cell_type": "code",
   "execution_count": 13,
   "metadata": {},
   "outputs": [
    {
     "data": {
      "text/html": [
       "<div>\n",
       "<style scoped>\n",
       "    .dataframe tbody tr th:only-of-type {\n",
       "        vertical-align: middle;\n",
       "    }\n",
       "\n",
       "    .dataframe tbody tr th {\n",
       "        vertical-align: top;\n",
       "    }\n",
       "\n",
       "    .dataframe thead th {\n",
       "        text-align: right;\n",
       "    }\n",
       "</style>\n",
       "<table border=\"1\" class=\"dataframe\">\n",
       "  <thead>\n",
       "    <tr style=\"text-align: right;\">\n",
       "      <th></th>\n",
       "      <th>avg_basesalary</th>\n",
       "    </tr>\n",
       "  </thead>\n",
       "  <tbody>\n",
       "    <tr>\n",
       "      <th>0</th>\n",
       "      <td>155499.755488</td>\n",
       "    </tr>\n",
       "  </tbody>\n",
       "</table>\n",
       "</div>"
      ],
      "text/plain": [
       "   avg_basesalary\n",
       "0   155499.755488"
      ]
     },
     "execution_count": 13,
     "metadata": {},
     "output_type": "execute_result"
    }
   ],
   "source": [
    "sql_query = \"\"\"\n",
    "SELECT AVG(basesalary) as avg_basesalary\n",
    "FROM salaries\n",
    "WHERE location LIKE '%CA%'\n",
    "\"\"\"\n",
    "\n",
    "execute_sql(sql_query)"
   ]
  },
  {
   "cell_type": "markdown",
   "metadata": {},
   "source": [
    "## Exercise 5"
   ]
  },
  {
   "cell_type": "code",
   "execution_count": 14,
   "metadata": {},
   "outputs": [
    {
     "data": {
      "text/html": [
       "<div>\n",
       "<style scoped>\n",
       "    .dataframe tbody tr th:only-of-type {\n",
       "        vertical-align: middle;\n",
       "    }\n",
       "\n",
       "    .dataframe tbody tr th {\n",
       "        vertical-align: top;\n",
       "    }\n",
       "\n",
       "    .dataframe thead th {\n",
       "        text-align: right;\n",
       "    }\n",
       "</style>\n",
       "<table border=\"1\" class=\"dataframe\">\n",
       "  <thead>\n",
       "    <tr style=\"text-align: right;\">\n",
       "      <th></th>\n",
       "      <th>diff_max_basesalary</th>\n",
       "      <th>diff_min_basesalary</th>\n",
       "      <th>diff_avg_basesalary</th>\n",
       "      <th>diff_number</th>\n",
       "    </tr>\n",
       "  </thead>\n",
       "  <tbody>\n",
       "    <tr>\n",
       "      <th>0</th>\n",
       "      <td>-727000</td>\n",
       "      <td>10000</td>\n",
       "      <td>19933.2709</td>\n",
       "      <td>-19933</td>\n",
       "    </tr>\n",
       "  </tbody>\n",
       "</table>\n",
       "</div>"
      ],
      "text/plain": [
       "   diff_max_basesalary  diff_min_basesalary  diff_avg_basesalary  diff_number\n",
       "0              -727000                10000           19933.2709       -19933"
      ]
     },
     "execution_count": 14,
     "metadata": {},
     "output_type": "execute_result"
    }
   ],
   "source": [
    "sql_query = \"\"\"\n",
    "WITH t AS (\n",
    "SELECT \n",
    "    1 AS key,\n",
    "    MAX(basesalary) AS max_basesalary,\n",
    "    MIN(basesalary) AS min_basesalary,\n",
    "    AVG(basesalary) AS avg_basesalary,\n",
    "    COUNT(*) AS number\n",
    "FROM salaries\n",
    "WHERE \n",
    "    company IN ('Facebook', 'Amazon', 'Apple', 'Netflix', 'Google') \n",
    "    AND \n",
    "    title = 'Software Engineer'\n",
    "    AND\n",
    "    basesalary > 0\n",
    "), u AS (\n",
    "SELECT \n",
    "    1 AS key,\n",
    "    MAX(basesalary) AS max_basesalary,\n",
    "    MIN(basesalary) AS min_basesalary,\n",
    "    AVG(basesalary) AS avg_basesalary,\n",
    "    COUNT(*) AS number\n",
    "FROM salaries\n",
    "WHERE \n",
    "    company NOT IN ('Facebook', 'Amazon', 'Apple', 'Netflix', 'Google') \n",
    "    AND \n",
    "    title = 'Software Engineer'\n",
    "    AND\n",
    "    basesalary > 0\n",
    ")\n",
    "SELECT \n",
    "    t.max_basesalary - u.max_basesalary AS diff_max_basesalary,\n",
    "    t.min_basesalary - u.min_basesalary AS diff_min_basesalary,\n",
    "    t.avg_basesalary - u.avg_basesalary AS diff_avg_basesalary,\n",
    "    t.number - u.number AS diff_number\n",
    "FROM t\n",
    "JOIN u ON t.key = u.key\n",
    "\"\"\"\n",
    "execute_sql(sql_query) # diff_number is different between pandas and SQL"
   ]
  },
  {
   "cell_type": "code",
   "execution_count": 15,
   "metadata": {},
   "outputs": [],
   "source": [
    "target = ['Facebook', 'Amazon', 'Apple', 'Netflix', 'Google']\n",
    "faang = salaries[(salaries['company'].isin(target)) & (salaries['title'] == 'Software Engineer') & (salaries['basesalary'] > 0)]['basesalary'].describe()"
   ]
  },
  {
   "cell_type": "code",
   "execution_count": 16,
   "metadata": {},
   "outputs": [],
   "source": [
    "not_faang = salaries[(~salaries['company'].isin(target)) & (salaries['title'] == 'Software Engineer') & (salaries['basesalary'] > 0)]['basesalary'].describe()"
   ]
  },
  {
   "cell_type": "code",
   "execution_count": 17,
   "metadata": {},
   "outputs": [
    {
     "data": {
      "text/plain": [
       "count     12262.000000\n",
       "mean     151997.808840\n",
       "std       59326.000126\n",
       "min       11000.000000\n",
       "25%      125000.000000\n",
       "50%      149000.000000\n",
       "75%      170000.000000\n",
       "max      893000.000000\n",
       "Name: basesalary, dtype: float64"
      ]
     },
     "execution_count": 17,
     "metadata": {},
     "output_type": "execute_result"
    }
   ],
   "source": [
    "faang"
   ]
  },
  {
   "cell_type": "code",
   "execution_count": 18,
   "metadata": {},
   "outputs": [
    {
     "data": {
      "text/plain": [
       "count    3.219900e+04\n",
       "mean     1.320574e+05\n",
       "std      5.158310e+04\n",
       "min      1.000000e+03\n",
       "25%      1.010000e+05\n",
       "50%      1.330000e+05\n",
       "75%      1.650000e+05\n",
       "max      1.620000e+06\n",
       "Name: basesalary, dtype: float64"
      ]
     },
     "execution_count": 18,
     "metadata": {},
     "output_type": "execute_result"
    }
   ],
   "source": [
    "not_faang"
   ]
  },
  {
   "cell_type": "code",
   "execution_count": 19,
   "metadata": {},
   "outputs": [
    {
     "data": {
      "text/plain": [
       "count    -19937.000000\n",
       "mean      19940.390939\n",
       "std        7742.904925\n",
       "min       10000.000000\n",
       "25%       24000.000000\n",
       "50%       16000.000000\n",
       "75%        5000.000000\n",
       "max     -727000.000000\n",
       "Name: basesalary, dtype: float64"
      ]
     },
     "execution_count": 19,
     "metadata": {},
     "output_type": "execute_result"
    }
   ],
   "source": [
    "faang - not_faang"
   ]
  },
  {
   "cell_type": "markdown",
   "metadata": {},
   "source": [
    "### Описание результатов \n",
    "---\n",
    "В данной задаче было использовано и pandas код и SQL код для более релевантных результатов. И вот что мы выяснили:\n",
    "1. Почему-то значение 'count' разнится от использований SQL и pandas, хотя такого быть не должно, и к сожалению причина мне не ясна.\n",
    "2. Как мы можем заметить, что в FAANG работает почти в три раза меньше сотрудников на позиции \"Software Engineer\".\n",
    "3. Если посмотреть на среднюю зарплату специалиста, то можно увидеть, что в FAANG получают зарплату почти 20_000 больше чем в других компаниях.\n",
    "4. Еще можно упомянуть, то что минимальная зарплата специалиста в FAANG состовляет 11_000, когда в других компаниях минимум равняется 1_000.\n",
    "5. Но также имеется большая разница в максимальной зарплате, так в FAANG максимум состовляет 893_000, в то время как в других компаниях состовляет 1_620_000, что почти в два раза превышает максимальную зарплату в FAANG.\n",
    "6. Также стоит упомянуть, что разброс от средней зарплаты у обоих случаях не 60_000.\n"
   ]
  },
  {
   "cell_type": "markdown",
   "metadata": {},
   "source": [
    "## Exercise 6"
   ]
  },
  {
   "cell_type": "code",
   "execution_count": 15,
   "metadata": {},
   "outputs": [],
   "source": [
    "start_date_1 = '2021-01-01' # January 1st\n",
    "start_date_2 = '2021-05-01' # May 1st\n",
    "end_date_1 = '2021-09-01' # September 1st\n",
    "\n",
    "bs_1 = salaries[(salaries['timestamp'] >= start_date_1) & (salaries['timestamp'] < start_date_2) & (salaries['title'] == 'Software Engineer')]\n",
    "bs_1 = bs_1['basesalary'] # bs - basesalary for particular period \n",
    "bs_2 = salaries[(salaries['timestamp'] >= start_date_2) & (salaries['timestamp'] < end_date_1) & (salaries['title'] == 'Software Engineer')]\n",
    "bs_2 = bs_2['basesalary']"
   ]
  },
  {
   "cell_type": "code",
   "execution_count": 16,
   "metadata": {},
   "outputs": [
    {
     "data": {
      "text/plain": [
       "(134345.1536643026, 135000.0, 160000)"
      ]
     },
     "execution_count": 16,
     "metadata": {},
     "output_type": "execute_result"
    }
   ],
   "source": [
    "mean_1 = bs_1.mean()\n",
    "median_1 = bs_1.median()\n",
    "mode_1 = bs_1.mode().iloc[0]\n",
    "(mean_1, median_1, mode_1)"
   ]
  },
  {
   "cell_type": "code",
   "execution_count": 17,
   "metadata": {},
   "outputs": [
    {
     "data": {
      "text/plain": [
       "(128531.46094503374, 130000.0, 160000)"
      ]
     },
     "execution_count": 17,
     "metadata": {},
     "output_type": "execute_result"
    }
   ],
   "source": [
    "mean_2 = bs_2.mean()\n",
    "median_2 = bs_2.median()\n",
    "mode_2 = bs_2.mode().iloc[0]\n",
    "(mean_2, median_2, mode_2) "
   ]
  },
  {
   "cell_type": "code",
   "execution_count": 18,
   "metadata": {},
   "outputs": [
    {
     "data": {
      "text/plain": [
       "(5813.69271926886, 5000.0, 0)"
      ]
     },
     "execution_count": 18,
     "metadata": {},
     "output_type": "execute_result"
    }
   ],
   "source": [
    "mean_diff = abs(mean_1 - mean_2) # mean_1 > mean_2\n",
    "median_diff = abs(median_1 - median_2) # median_1 > median_2\n",
    "mode_diff = abs(mode_1 - mode_2) # mode_1 = mode_2\n",
    "(mean_diff, median_diff, mode_diff)"
   ]
  },
  {
   "cell_type": "markdown",
   "metadata": {},
   "source": [
    "## Exercise 7"
   ]
  },
  {
   "cell_type": "code",
   "execution_count": 19,
   "metadata": {},
   "outputs": [],
   "source": [
    "mean_1_list = []\n",
    "mean_2_list = []\n",
    "for i in range(4):\n",
    "    base_1 = salaries[(salaries['timestamp'] >= f'2021-0{1+i}-01') & (salaries['timestamp'] < f'2021-0{2+i}-01') & (salaries['title'] == 'Software Engineer')]\n",
    "    base_1 = base_1['basesalary']\n",
    "    mean_1_list.append(base_1.mean())\n",
    "    \n",
    "    base_2 = salaries[(salaries['timestamp'] >= f'2021-0{5+i}-01') & (salaries['timestamp'] < f'2021-0{6+i}-01') & (salaries['title'] == 'Software Engineer')]\n",
    "    base_2 = base_2['basesalary']\n",
    "    mean_2_list.append(base_2.mean())"
   ]
  },
  {
   "cell_type": "code",
   "execution_count": 20,
   "metadata": {},
   "outputs": [
    {
     "data": {
      "image/png": "[encoded data removed]",
      "text/plain": [
       "<Figure size 1000x600 with 1 Axes>"
      ]
     },
     "metadata": {},
     "output_type": "display_data"
    }
   ],
   "source": [
    "period_1 = ['Jan', 'Feb', 'Mar', 'Apr']\n",
    "period_2 = ['May', 'Jun', 'Jul', 'Aug']\n",
    "with plt.style.context((\"seaborn-whitegrid\")):  \n",
    "    plt.figure(figsize=(10, 6))\n",
    "    \n",
    "    graph_color_1 = sns.color_palette('Dark2')[0]\n",
    "    graph_color_2 = sns.color_palette('Dark2')[1]\n",
    "    sns.lineplot(x=period_1, y=mean_1_list, color=graph_color_1)\n",
    "    sns.lineplot(x=period_2, y=mean_2_list, color=graph_color_2)\n",
    "    \n",
    "    plt.title('Salary mean from periods \"Jan-Apr\" and \"May-Aug\" in 2021')\n",
    "    plt.xlabel('Months')\n",
    "    plt.ylabel('Salary mean')\n",
    "    \n",
    "    plt.ylim(100_000, 150_000)\n",
    "    plt.show()"
   ]
  },
  {
   "cell_type": "markdown",
   "metadata": {},
   "source": [
    "### Описание результатов \n",
    "---\n",
    "В данной задаче использовались модули pandas для работы с данными и matplotlib для работы с графиками. И вот что мы можем сказать о результатах:\n",
    "1. Легко можно заметить убывающий тренд для данного графика, то есть средняя зарплата по каждому месяцу показывает с января по август, включительно, 2021 года снижается, и свой минимум достигает в августе. Но есть один месяц, который немного выделяется от тренда, Март, который оказался самым большим средним значением по зарплате.\n",
    "2. Так же стоит упомянуть, что мода не отличается для обоих случаев (с января по апрель и с мая по август), а медиана и среднее значение отличается в не больше чем на 6000, что примерно составляет 5%."
   ]
  },
  {
   "cell_type": "markdown",
   "metadata": {},
   "source": [
    "## Exercise 8"
   ]
  },
  {
   "cell_type": "code",
   "execution_count": 26,
   "metadata": {},
   "outputs": [],
   "source": [
    "salaries['Education'].fillna(\"NS\", inplace=True) # NS - Not Stated"
   ]
  },
  {
   "cell_type": "code",
   "execution_count": 27,
   "metadata": {},
   "outputs": [
    {
     "data": {
      "image/png": "[encoded data removed]",
      "text/plain": [
       "<Figure size 1000x600 with 1 Axes>"
      ]
     },
     "metadata": {},
     "output_type": "display_data"
    }
   ],
   "source": [
    "ns_edu = salaries[salaries['Education'] == 'NS']['basesalary'].mean()\n",
    "sch_edu = salaries[salaries['Education'] == \"Highschool\"]['basesalary'].mean()\n",
    "col_edu = salaries[salaries['Education'] == \"Some College\"]['basesalary'].mean()\n",
    "bac_edu = salaries[salaries['Education'] == \"Bachelor's Degree\"]['basesalary'].mean()\n",
    "mas_edu = salaries[salaries['Education'] == \"Master's Degree\"]['basesalary'].mean()\n",
    "phd_edu = salaries[salaries['Education'] == \"PhD\"]['basesalary'].mean()\n",
    "\n",
    "# Data visualization --> Here: Bar chart\n",
    "edu = ['NS', 'Sch', 'Col', 'Bac', 'Mas', 'PhD']\n",
    "edu_salary = [ns_edu, sch_edu, col_edu, bac_edu, mas_edu, phd_edu]\n",
    "\n",
    "with plt.style.context((\"seaborn-whitegrid\")):  \n",
    "    sns.set_palette('pastel')\n",
    "    plt.figure(figsize=(10, 6))\n",
    "    sns.barplot(x=edu, y=edu_salary)\n",
    "    \n",
    "    graph_color = sns.color_palette('Dark2')[0]\n",
    "    sns.lineplot(x=edu, y=edu_salary, marker='o', color=graph_color)\n",
    "\n",
    "    plt.title('Salary dependence on education level')\n",
    "    plt.xlabel('Education level')\n",
    "    plt.ylabel('Salary')\n",
    "\n",
    "    plt.show()"
   ]
  },
  {
   "cell_type": "markdown",
   "metadata": {},
   "source": [
    "### Описание результатов \n",
    "---\n",
    "В данной задаче использовались модули pandas для работы с данными и matplotlib для работы с графиками. И вот что мы можем сказать о результатах:\n",
    "1. Как и ожидалось среди всех университетских дипломов, больше всех в среднем получают люди, которые закончили PhD, а меньше всех Bachelors, и усредненная между данными двумя получают Masters. И мы хорошо можем увидеть данную тенденцию на линейном графике.\n",
    "2. Но что сильно выбивается из всей картины, так это то что люди, которые закончили школу или немного учились в университете, в среднем получают больше чем человек с высшим образованием. Но более того, человек, который немного учился в  университете, получает почти также как и человек с Masters degree. \n",
    "3. Так же стоит упомянуть, что люди, у которых не указан уровень образования были выделены в отдельную колонку, чтобы не использовать нерелевантные данные.\n",
    "4. В итоге мы получили, что люди с высшим образованием (Bachelors) в среднем получают меньше всех, и люди с PhD получают больше всех."
   ]
  },
  {
   "cell_type": "markdown",
   "metadata": {},
   "source": [
    "## Exercise 9"
   ]
  },
  {
   "cell_type": "code",
   "execution_count": 28,
   "metadata": {},
   "outputs": [
    {
     "data": {
      "image/png": "[encoded data removed]",
      "text/plain": [
       "<Figure size 1000x600 with 1 Axes>"
      ]
     },
     "metadata": {},
     "output_type": "display_data"
    }
   ],
   "source": [
    "exp_1 = salaries[(salaries['yearsofexperience'] >= 0) & (salaries['yearsofexperience'] < 1)]['basesalary'].mean()\n",
    "exp_2 = salaries[(salaries['yearsofexperience'] >= 1) & (salaries['yearsofexperience'] < 3)]['basesalary'].mean()\n",
    "exp_3 = salaries[(salaries['yearsofexperience'] >= 3) & (salaries['yearsofexperience'] < 6)]['basesalary'].mean()\n",
    "exp_4 = salaries[(salaries['yearsofexperience'] >= 6) & (salaries['yearsofexperience'] < 10)]['basesalary'].mean()\n",
    "exp_5 = salaries[(salaries['yearsofexperience'] >= 10) & (salaries['yearsofexperience'] < 20)]['basesalary'].mean()\n",
    "exp_6 = salaries[salaries['yearsofexperience'] >= 20]['basesalary'].mean()\n",
    "\n",
    "# Data visualization --> Here: Bar chart\n",
    "exp = ['0-1', '1-3','3-6','6-10','10-20','20+']\n",
    "exp_salary = [exp_1, exp_2, exp_3, exp_4, exp_5, exp_6]\n",
    "\n",
    "with plt.style.context((\"seaborn-whitegrid\")):  \n",
    "    sns.set_palette('pastel')\n",
    "    plt.figure(figsize=(10, 6))\n",
    "    sns.barplot(x=exp, y=exp_salary)\n",
    "\n",
    "    graph_color = sns.color_palette('Dark2')[0]\n",
    "    sns.lineplot(x=exp, y=exp_salary, marker='o', color=graph_color)\n",
    "    \n",
    "    plt.title('Salary dependence on years of experience')\n",
    "    plt.xlabel('Years of experience')\n",
    "    plt.ylabel('Salary')\n",
    "\n",
    "    plt.show()"
   ]
  },
  {
   "cell_type": "markdown",
   "metadata": {},
   "source": [
    "### Описание результатов \n",
    "---\n",
    "В данной задаче использовались модули pandas для работы с данными и matplotlib для работы с графиками. И вот что мы можем сказать о результатах:\n",
    "1. Как и ожидалось, чем больше лет опыта у специалиста, тем выше в среднем он получает зарплаты. Данный тренд наглядно демонстрируется графиком, который можно сравнить с графиком линейной функции, что подтверждает то, что чем больше опыта, тем выше зарплата.\n",
    "2. Минимальная зарплата у тех, у кого опыта либо нет, либо не превышает года и в среднем состовляет около 102_000.\n",
    "3. Максимальная зарплата же у тех, у кого опыта больше 20 лет и в среднем состовляет 183_000."
   ]
  },
  {
   "cell_type": "markdown",
   "metadata": {},
   "source": [
    "## Exercise 10"
   ]
  },
  {
   "cell_type": "code",
   "execution_count": 29,
   "metadata": {},
   "outputs": [],
   "source": [
    "salaries['level'].fillna('NS', inplace = True) # NS - Not Stated"
   ]
  },
  {
   "cell_type": "code",
   "execution_count": 30,
   "metadata": {},
   "outputs": [
    {
     "data": {
      "image/png": "[encoded data removed]",
      "text/plain": [
       "<Figure size 1000x600 with 1 Axes>"
      ]
     },
     "metadata": {},
     "output_type": "display_data"
    }
   ],
   "source": [
    "amazon = salaries[(salaries['company'] == 'Amazon') & (salaries['title'] == 'Software Engineer')]\n",
    "lvl_ns = amazon[amazon['level'] == 'NS']['basesalary'].mean()\n",
    "lvl_1 = amazon[amazon['level'] == 'L1']['basesalary'].mean() # There are only L1, L4, L5 and L6 levels in this dataset\n",
    "lvl_4 = amazon[amazon['level'] == 'L4']['basesalary'].mean()\n",
    "lvl_5 = amazon[amazon['level'] == 'L5']['basesalary'].mean()\n",
    "lvl_6 = amazon[amazon['level'] == 'L6']['basesalary'].mean()\n",
    "\n",
    "# Data visualization --> Here: Bar chart\n",
    "lvl = ['NS', 'L1', 'L4', 'L5', 'L6']\n",
    "lvl_salary = [lvl_ns, lvl_1, lvl_4, lvl_5, lvl_6]\n",
    "\n",
    "with plt.style.context((\"seaborn-whitegrid\")):  \n",
    "    sns.set_palette('pastel')\n",
    "    plt.figure(figsize=(10, 6))\n",
    "    sns.barplot(x=lvl, y=lvl_salary)\n",
    "    \n",
    "    graph_color = sns.color_palette('Dark2')[0]\n",
    "    sns.lineplot(x=lvl, y=lvl_salary, marker='o', color=graph_color)\n",
    "\n",
    "    plt.title('Salary dependence on level in Amazon')\n",
    "    plt.xlabel('Level')\n",
    "    plt.ylabel('Salary')\n",
    "\n",
    "    plt.show()"
   ]
  },
  {
   "cell_type": "markdown",
   "metadata": {},
   "source": [
    "### Описание результатов \n",
    "---\n",
    "В данной задаче использовались модули pandas для работы с данными и matplotlib для работы с графиками. И вот что мы можем сказать о результатах:\n",
    "1. Как и ожидалось, чем выше уровень самого специалиста тем больше в среднем он получает зарплаты. Особенно заметен сильный рост с L4 до L5.\n",
    "2. К удивлению, в среднем специалисты уровня L1 и L4 получают одинаковую зарплату, хотя в данном случае данные не могут быть релевантны, так как специалистов L1 уровня всего 2, когда как специалистов L4 больше 1500.\n",
    "3. Также в графике выделен отдельный столбик для тех специалистов, у которых не указан уровень для более релевантного сбора информации.\n",
    "4. В итоге, как и ожидалось чем выше уровень специалиста в компании, тем больше в среднем он будет получать."
   ]
  }
 ],
 "metadata": {
  "kernelspec": {
   "display_name": "Python 3 (ipykernel)",
   "language": "python",
   "name": "python3"
  },
  "language_info": {
   "codemirror_mode": {
    "name": "ipython",
    "version": 3
   },
   "file_extension": ".py",
   "mimetype": "text/x-python",
   "name": "python",
   "nbconvert_exporter": "python",
   "pygments_lexer": "ipython3",
   "version": "3.11.4"
  }
 },
 "nbformat": 4,
 "nbformat_minor": 4
}
